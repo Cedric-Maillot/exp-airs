{
 "cells": [
  {
   "cell_type": "code",
   "execution_count": 1,
   "metadata": {},
   "outputs": [],
   "source": [
    "import pandas as pd\n",
    "from dateutil.parser import parse\n",
    "\n",
    "# To Do\n",
    "# Use the PYTHONPATH environment variable\n",
    "# Ref : https://www.geeksforgeeks.org/python-import-module-from-different-directory/\n",
    "import sys\n",
    "sys.path.insert(0, \"/home/cedric/Documents/dev_ia/exp-airs/\")\n",
    "from boite_outils import save_dataframe"
   ]
  },
  {
   "cell_type": "markdown",
   "metadata": {},
   "source": [
    "Variables"
   ]
  },
  {
   "cell_type": "code",
   "execution_count": 2,
   "metadata": {},
   "outputs": [],
   "source": [
    "extension_dataset = \".csv\"\n",
    "nom_dataset = f\"Concentrations moyennes horaires{extension_dataset}\"\n",
    "dataset_path = f\"../data/{nom_dataset}\"\n",
    "\n",
    "nom_dataframe = \"dataframe_atmo_reunion\"\n",
    "# dataframe_path = f\"../data/{nom_dataframe}\""
   ]
  },
  {
   "cell_type": "markdown",
   "metadata": {},
   "source": [
    "Création du dataframe"
   ]
  },
  {
   "cell_type": "code",
   "execution_count": 3,
   "metadata": {},
   "outputs": [],
   "source": [
    "df = pd.read_csv(dataset_path)"
   ]
  },
  {
   "cell_type": "markdown",
   "metadata": {},
   "source": [
    "Pre-processing"
   ]
  },
  {
   "cell_type": "code",
   "execution_count": 4,
   "metadata": {},
   "outputs": [],
   "source": [
    "# Convert the date column to date format using dateutil parser\n",
    "df[\"date_debut\"] = df[\"date_debut\"].apply(lambda x: parse(x))"
   ]
  },
  {
   "cell_type": "markdown",
   "metadata": {},
   "source": [
    "Sauvegarde du dataframe"
   ]
  },
  {
   "cell_type": "code",
   "execution_count": 5,
   "metadata": {},
   "outputs": [],
   "source": [
    "save_dataframe(dataframe=df, nom_fichier=nom_dataframe)"
   ]
  }
 ],
 "metadata": {
  "kernelspec": {
   "display_name": ".env",
   "language": "python",
   "name": "python3"
  },
  "language_info": {
   "codemirror_mode": {
    "name": "ipython",
    "version": 3
   },
   "file_extension": ".py",
   "mimetype": "text/x-python",
   "name": "python",
   "nbconvert_exporter": "python",
   "pygments_lexer": "ipython3",
   "version": "3.10.12"
  }
 },
 "nbformat": 4,
 "nbformat_minor": 2
}
